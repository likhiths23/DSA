{
 "cells": [
  {
   "cell_type": "markdown",
   "id": "a5dab525",
   "metadata": {},
   "source": [
    "Binary Tree"
   ]
  },
  {
   "cell_type": "code",
   "execution_count": null,
   "id": "865e3c22",
   "metadata": {},
   "outputs": [],
   "source": [
    "class Node:\n",
    "    def __init__(self, data):\n",
    "        self.data = data\n",
    "        self.left = None\n",
    "        self.right = None\n",
    "\n",
    "index = 0\n",
    "\n",
    "def construct_binary_tree(preorder, index):\n",
    "    # global index\n",
    "\n",
    "    if preorder[index] == -1:\n",
    "        return None\n",
    "    \n",
    "    root = Node(preorder[index])\n",
    "    # index+=1\n",
    "    root.left = construct_binary_tree(preorder, index+1)\n",
    "    # index+=1\n",
    "    root.right = construct_binary_tree(preorder, index+2)\n",
    "\n",
    "    return root"
   ]
  },
  {
   "cell_type": "code",
   "execution_count": 15,
   "id": "80d98042",
   "metadata": {},
   "outputs": [],
   "source": [
    "# preorder = [1, 2, 4, -1, -1, 5, -1, -1, 3, 6, -1, -1, 7, -1, -1]\n",
    "preorder = [1, 2, 4, -1, -1, 5, -1, -1, 3, -1, -1]\n",
    "bt_root = construct_binary_tree(preorder, 0)"
   ]
  },
  {
   "cell_type": "markdown",
   "id": "7ca78d4a",
   "metadata": {},
   "source": [
    "Pre Order Traversal"
   ]
  },
  {
   "cell_type": "code",
   "execution_count": 16,
   "id": "1eceda4d",
   "metadata": {},
   "outputs": [
    {
     "name": "stdout",
     "output_type": "stream",
     "text": [
      "1\n",
      "2\n",
      "4\n",
      "4\n"
     ]
    }
   ],
   "source": [
    "def preorder_traversal(root):\n",
    "    if root is None:\n",
    "        return\n",
    "    \n",
    "    print(root.data)\n",
    "    preorder_traversal(root.left)\n",
    "    preorder_traversal(root.right)\n",
    "\n",
    "preorder_traversal(bt_root)"
   ]
  },
  {
   "cell_type": "markdown",
   "id": "12133f41",
   "metadata": {},
   "source": [
    "In Order Traversal"
   ]
  },
  {
   "cell_type": "code",
   "execution_count": 48,
   "id": "cd830695",
   "metadata": {},
   "outputs": [
    {
     "name": "stdout",
     "output_type": "stream",
     "text": [
      "4\n",
      "2\n",
      "5\n",
      "1\n",
      "6\n",
      "3\n",
      "7\n"
     ]
    }
   ],
   "source": [
    "def inorder_traversal(root):\n",
    "    if root is None:\n",
    "        return\n",
    "    \n",
    "    inorder_traversal(root.left)\n",
    "    print(root.data)\n",
    "    inorder_traversal(root.right)\n",
    "\n",
    "inorder_traversal(bt_root)"
   ]
  },
  {
   "cell_type": "markdown",
   "id": "dcdf5ef7",
   "metadata": {},
   "source": [
    "Post Order Traversal"
   ]
  },
  {
   "cell_type": "code",
   "execution_count": 49,
   "id": "e5dff2f7",
   "metadata": {},
   "outputs": [
    {
     "name": "stdout",
     "output_type": "stream",
     "text": [
      "4\n",
      "5\n",
      "2\n",
      "6\n",
      "7\n",
      "3\n",
      "1\n"
     ]
    }
   ],
   "source": [
    "def postorder_traversal(root):\n",
    "    if root is None:\n",
    "        return\n",
    "    \n",
    "    postorder_traversal(root.left)\n",
    "    postorder_traversal(root.right)\n",
    "    print(root.data)\n",
    "\n",
    "postorder_traversal(bt_root)"
   ]
  },
  {
   "cell_type": "markdown",
   "id": "8865b1c7",
   "metadata": {},
   "source": [
    "Level Order Traversal"
   ]
  },
  {
   "cell_type": "code",
   "execution_count": 51,
   "id": "d7e90b4d",
   "metadata": {},
   "outputs": [
    {
     "name": "stdout",
     "output_type": "stream",
     "text": [
      "1\n",
      "2\n",
      "3\n",
      "4\n",
      "5\n",
      "6\n",
      "7\n"
     ]
    }
   ],
   "source": [
    "queue = []\n",
    "queue.append(bt_root)\n",
    "\n",
    "while queue:\n",
    "    first = queue.pop(0)\n",
    "    if first is not None:\n",
    "        print(first.data)\n",
    "        queue.append(first.left)\n",
    "        queue.append(first.right)\n"
   ]
  }
 ],
 "metadata": {
  "kernelspec": {
   "display_name": "Python 3",
   "language": "python",
   "name": "python3"
  },
  "language_info": {
   "codemirror_mode": {
    "name": "ipython",
    "version": 3
   },
   "file_extension": ".py",
   "mimetype": "text/x-python",
   "name": "python",
   "nbconvert_exporter": "python",
   "pygments_lexer": "ipython3",
   "version": "3.11.4"
  }
 },
 "nbformat": 4,
 "nbformat_minor": 5
}
