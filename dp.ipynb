{
 "cells": [
  {
   "cell_type": "code",
   "execution_count": null,
   "id": "588929f6",
   "metadata": {},
   "outputs": [],
   "source": [
    "def climbStairs(self, n: int) -> int:\n",
    "    def climb(n):\n",
    "        if n==1 or n==0:\n",
    "            return 1\n",
    "\n",
    "        if dp[n]!=-1:\n",
    "            return dp[n]\n",
    "        else:\n",
    "            dp[n] = climb(n-1) + climb(n-2)\n",
    "            return dp[n]\n",
    "    \n",
    "    dp = [-1]*(n+1)\n",
    "    return dp[n]"
   ]
  }
 ],
 "metadata": {
  "language_info": {
   "name": "python"
  }
 },
 "nbformat": 4,
 "nbformat_minor": 5
}
