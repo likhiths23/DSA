{
 "cells": [
  {
   "cell_type": "code",
   "execution_count": 69,
   "id": "bae0a0d4",
   "metadata": {},
   "outputs": [],
   "source": [
    "class Node:\n",
    "    def __init__(self, data):\n",
    "        self.val = data\n",
    "        self.left = None\n",
    "        self.right = None\n",
    "\n",
    "class binary_tree:\n",
    "    def __init__(self):\n",
    "        self.index = 0\n",
    "        \n",
    "    def construct_binary_tree(self, preorder):\n",
    "\n",
    "        if preorder[self.index] == -1:\n",
    "            return None\n",
    "        \n",
    "        root = Node(preorder[self.index])\n",
    "        self.index+=1\n",
    "        root.left = self.construct_binary_tree(preorder)\n",
    "        self.index+=1\n",
    "        root.right = self.construct_binary_tree(preorder)\n",
    "\n",
    "        return root"
   ]
  },
  {
   "cell_type": "code",
   "execution_count": 74,
   "id": "e7d64243",
   "metadata": {},
   "outputs": [],
   "source": [
    "preorder = [1, 2, -1, 5, -1, -1, 3, -1, 4, -1, -1]\n",
    "bt = binary_tree()\n",
    "bt_root = bt.construct_binary_tree(preorder)"
   ]
  },
  {
   "cell_type": "markdown",
   "id": "549d2e1a",
   "metadata": {},
   "source": [
    "      1\n",
    "     / \\\n",
    "    2   3\n",
    "     \\    \n",
    "      4   \n",
    "       \\\n",
    "        5"
   ]
  },
  {
   "cell_type": "code",
   "execution_count": 75,
   "id": "adcb5fab",
   "metadata": {},
   "outputs": [
    {
     "name": "stdout",
     "output_type": "stream",
     "text": [
      "1\n",
      "2\n",
      "5\n",
      "3\n",
      "4\n"
     ]
    }
   ],
   "source": [
    "def preorder_traversal(root):\n",
    "    if root is None:\n",
    "        return\n",
    "    \n",
    "    print(root.val)\n",
    "    preorder_traversal(root.left)\n",
    "    preorder_traversal(root.right)\n",
    "\n",
    "preorder_traversal(bt_root)"
   ]
  },
  {
   "cell_type": "code",
   "execution_count": 80,
   "id": "3e2b1871",
   "metadata": {},
   "outputs": [
    {
     "data": {
      "text/plain": [
       "[[0, 0, 0, 0, 0], [0, 0, 0, 0, 0], [0, 0, 0, 0, 0], [0, 0, 0, 0, 0]]"
      ]
     },
     "execution_count": 80,
     "metadata": {},
     "output_type": "execute_result"
    }
   ],
   "source": [
    "grid = [\n",
    "  [\"1\",\"1\",\"1\",\"1\",\"0\"],\n",
    "  [\"1\",\"1\",\"0\",\"1\",\"0\"],\n",
    "  [\"1\",\"1\",\"0\",\"0\",\"0\"],\n",
    "  [\"0\",\"0\",\"0\",\"0\",\"0\"]\n",
    "]\n",
    "\n",
    "n = len(grid)\n",
    "m = len(grid[0])\n",
    "visited = [[0]*m for _ in range(n)]\n",
    "\n",
    "visited"
   ]
  },
  {
   "cell_type": "code",
   "execution_count": 4,
   "id": "76a653a4",
   "metadata": {},
   "outputs": [
    {
     "data": {
      "text/plain": [
       "'5'"
      ]
     },
     "execution_count": 4,
     "metadata": {},
     "output_type": "execute_result"
    }
   ],
   "source": [
    "strpath = \"\"\n",
    "strpath = str(5)\n",
    "strpath"
   ]
  },
  {
   "cell_type": "code",
   "execution_count": 54,
   "id": "92aa5ecc",
   "metadata": {},
   "outputs": [],
   "source": [
    "def dfs(rootpos, mapp):\n",
    "    root, pos = rootpos\n",
    "\n",
    "    if pos not in mapp:\n",
    "        mapp[pos] = [root.val]\n",
    "    else:\n",
    "        mapp[pos].append(root.val)\n",
    "\n",
    "    if root.left is not None:\n",
    "        dfs((root.left, (pos-1)), mapp)\n",
    "    \n",
    "    if root.right is not None:\n",
    "        dfs((root.right, (pos+1)), mapp)\n",
    "    \n",
    "\n",
    "mapp = {}\n",
    "dfs((bt_root, 0), mapp)\n",
    "ans = []\n",
    "# for i in sorted(mapp.keys()):\n",
    "#     ans.append(mapp[i])\n",
    "\n",
    "# print(ans)    "
   ]
  },
  {
   "cell_type": "code",
   "execution_count": 64,
   "id": "85b2e2b4",
   "metadata": {},
   "outputs": [
    {
     "data": {
      "text/plain": [
       "[(5, 15, 25), (5, 30, 30)]"
      ]
     },
     "execution_count": 64,
     "metadata": {},
     "output_type": "execute_result"
    }
   ],
   "source": [
    "n = [(5, 30, 30), (5,15, 25)]\n",
    "n.sort()\n",
    "n"
   ]
  },
  {
   "cell_type": "code",
   "execution_count": 22,
   "id": "60386115",
   "metadata": {},
   "outputs": [
    {
     "name": "stdout",
     "output_type": "stream",
     "text": [
      "[[0, 0, 0], [0, 0, 0]]\n"
     ]
    }
   ],
   "source": [
    "def dfs(sr, sc):\n",
    "    res[sr][sc] = color\n",
    "\n",
    "    for i in directions.keys():\n",
    "        newsr = sr + directions[i][0]\n",
    "        newsc = sc + directions[i][1]\n",
    "\n",
    "        if newsr<m and newsr>=0 and newsc<n and newsc>=0 and res[newsr][newsc] == oldcolor and res[newsr][newsr]!=color:\n",
    "            dfs(newsr, newsc) \n",
    "\n",
    "image = [[0,0,0],[0,0,0]]\n",
    "\n",
    "sr = 0\n",
    "sc = 0\n",
    "color = 0\n",
    "\n",
    "m = len(image)\n",
    "n = len(image[0])\n",
    "\n",
    "res = image.copy()\n",
    "oldcolor = image[sr][sc]\n",
    "\n",
    "directions = {'U':(-1, 0), 'R':(0, 1), 'D':(1, 0), 'L':(0, -1)}\n",
    "\n",
    "dfs(sr, sc)\n",
    "\n",
    "print(res)"
   ]
  },
  {
   "cell_type": "code",
   "execution_count": 3,
   "id": "1c9fad79",
   "metadata": {},
   "outputs": [
    {
     "data": {
      "text/plain": [
       "[0]"
      ]
     },
     "execution_count": 3,
     "metadata": {},
     "output_type": "execute_result"
    }
   ],
   "source": [
    "graph = [[], [1,2]]\n",
    "\n",
    "terminal_nodes = []\n",
    "for i in range(len(graph)):\n",
    "        if not graph[i]:\n",
    "            terminal_nodes.append(i)\n",
    "\n",
    "terminal_nodes"
   ]
  },
  {
   "cell_type": "code",
   "execution_count": 38,
   "id": "27535421",
   "metadata": {},
   "outputs": [
    {
     "data": {
      "text/plain": [
       "[[0, 0, 0], [0, 0, 0], [0, 0, 0]]"
      ]
     },
     "execution_count": 38,
     "metadata": {},
     "output_type": "execute_result"
    }
   ],
   "source": [
    "m = 3\n",
    "n = 3\n",
    "res = [[0]*n for _ in range(m)]\n",
    "res"
   ]
  },
  {
   "cell_type": "code",
   "execution_count": 10,
   "id": "1da0c8a5",
   "metadata": {},
   "outputs": [
    {
     "name": "stdout",
     "output_type": "stream",
     "text": [
      "153\n",
      "Yes\n"
     ]
    }
   ],
   "source": [
    "# check Armstrong\n",
    "num = 153\n",
    "sum = 0\n",
    "\n",
    "for i in str(num):\n",
    "    sum+=int(i)**3\n",
    "\n",
    "print(sum)\n",
    "if sum==n:\n",
    "    print(\"Yes\")\n",
    "else:\n",
    "    print(\"No\")"
   ]
  },
  {
   "cell_type": "code",
   "execution_count": 37,
   "id": "051da1b6",
   "metadata": {},
   "outputs": [
    {
     "name": "stdout",
     "output_type": "stream",
     "text": [
      "1\n",
      "2\n"
     ]
    }
   ],
   "source": [
    "x, y, _= (1,2,3)\n",
    "print(x)\n",
    "print(y)"
   ]
  },
  {
   "cell_type": "code",
   "execution_count": 33,
   "id": "4982e54d",
   "metadata": {},
   "outputs": [
    {
     "name": "stdout",
     "output_type": "stream",
     "text": [
      "[[0, 0, 0, 0, 0], [0, 0, 1, 0, 1], [0, 1, 0, 1, 0], [0, 0, 1, 0, 1], [0, 1, 0, 1, 0]]\n",
      "{0: [], 1: [2, 4], 2: [1, 3], 3: [2, 4], 4: [1, 3]}\n"
     ]
    }
   ],
   "source": [
    "# adj matrix to adj list\n",
    "n = 4\n",
    "m = 4\n",
    "\n",
    "adj_matrix = [[0]*(m+1) for _ in range(n+1)]\n",
    "\n",
    "def add_edge(adj_matrix, u, v):\n",
    "    adj_matrix[u][v] = 1\n",
    "    adj_matrix[v][u] = 1\n",
    "\n",
    "add_edge(adj_matrix, 1, 2)\n",
    "add_edge(adj_matrix, 2, 3)\n",
    "add_edge(adj_matrix, 3, 4)\n",
    "add_edge(adj_matrix, 4, 1)\n",
    "\n",
    "adj_list = {}\n",
    "for i in range(n+1):\n",
    "    adj_list[i] = []\n",
    "\n",
    "for i in range(n+1):\n",
    "    for j in range(m+1):\n",
    "        if adj_matrix[i][j] == 1:\n",
    "            adj_list[i].append(j)\n",
    "\n",
    "print(adj_matrix)\n",
    "print(adj_list)"
   ]
  },
  {
   "cell_type": "code",
   "execution_count": 44,
   "id": "cb3da640",
   "metadata": {},
   "outputs": [
    {
     "name": "stdout",
     "output_type": "stream",
     "text": [
      "{0: [], 1: [2, 4], 2: [1, 3], 3: [2, 4], 4: [3, 1]}\n",
      "[[0, 0, 0, 0, 0], [0, 0, 1, 0, 1], [0, 1, 0, 1, 0], [0, 0, 1, 0, 1], [0, 1, 0, 1, 0]]\n"
     ]
    }
   ],
   "source": [
    "# adj list to adj matrix\n",
    "n = 4\n",
    "m = 4\n",
    "adj_list = {}\n",
    "\n",
    "for i in range(n+1):\n",
    "    adj_list[i] = []\n",
    "    \n",
    "def add_edge(adj_list, u, v):\n",
    "    adj_list[u].append(v)\n",
    "    adj_list[v].append(u)\n",
    "\n",
    "add_edge(adj_list, 1, 2)\n",
    "add_edge(adj_list, 2, 3)\n",
    "add_edge(adj_list, 3, 4)\n",
    "add_edge(adj_list, 4, 1)\n",
    "\n",
    "\n",
    "adj_matrix = [[0]*(m+1) for _ in range(n+1)]\n",
    "              \n",
    "# for key, values in adj_list.items():\n",
    "#     for value in values:\n",
    "#         adj_matrix[key][value] = 1\n",
    "\n",
    "for key in adj_list:\n",
    "    for value in adj_list[key]:\n",
    "        adj_matrix[key][value] = 1\n",
    "\n",
    "print(adj_list)\n",
    "print(adj_matrix)"
   ]
  },
  {
   "cell_type": "code",
   "execution_count": null,
   "id": "13ea2300",
   "metadata": {},
   "outputs": [],
   "source": [
    "from collections import deque\n",
    "\n",
    "def firstUniqChar( s) -> int:\n",
    "    freq = {}\n",
    "    queue = deque()\n",
    "\n",
    "    for i in s:\n",
    "        if i in freq:\n",
    "            freq[i]+=1\n",
    "        else:\n",
    "            freq[i]=1\n",
    "            queue.append(i)\n",
    "    \n",
    "    for i in queue:\n",
    "        if freq[i] == 1:\n",
    "            return i\n",
    "    \n",
    "    return -1"
   ]
  },
  {
   "cell_type": "code",
   "execution_count": null,
   "id": "28e8bf48",
   "metadata": {},
   "outputs": [],
   "source": [
    "s = \"leetcode\""
   ]
  },
  {
   "cell_type": "code",
   "execution_count": 9,
   "id": "ea68e655",
   "metadata": {},
   "outputs": [
    {
     "data": {
      "text/plain": [
       "[['10', '20'], [10, 20]]"
      ]
     },
     "execution_count": 9,
     "metadata": {},
     "output_type": "execute_result"
    }
   ],
   "source": [
    "grid = []\n",
    "\n",
    "grid.append(input().split(\" \"))\n",
    "grid.append(list(map(int, input().split(\" \"))))\n",
    "\n",
    "grid"
   ]
  },
  {
   "cell_type": "code",
   "execution_count": 31,
   "id": "e7545e0e",
   "metadata": {},
   "outputs": [],
   "source": [
    "class Node:\n",
    "    def __init__(self, data):\n",
    "        self.data = data\n",
    "        self.next = None\n",
    "\n",
    "class MyLinkedList:\n",
    "    def __init__(self):\n",
    "        self.head = None\n",
    "        self.tail = None\n",
    "        self.length = 0\n",
    "\n",
    "    def get(self, index: int) -> int:\n",
    "        if index >= self.length:\n",
    "            return -1\n",
    "\n",
    "        current = self.head\n",
    "        for _ in range(index):\n",
    "            current = current.next\n",
    "        if current:\n",
    "            return current.data  \n",
    "        else:\n",
    "            return -1\n",
    "\n",
    "    def addAtHead(self, val: int) -> None:\n",
    "        newnode = Node(val)\n",
    "        self.length+=1\n",
    "        if self.head is None:\n",
    "            self.head = self.tail = newnode\n",
    "           \n",
    "        else:\n",
    "            newnode.next = self.head\n",
    "            self.head = newnode\n",
    "\n",
    "    def addAtTail(self, val: int) -> None:\n",
    "        newnode = Node(val)\n",
    "        self.length+=1\n",
    "\n",
    "        if self.head is None:\n",
    "            self.head = self.tail = newnode\n",
    "        \n",
    "        else:\n",
    "            self.tail.next = newnode\n",
    "            self.tail = newnode\n",
    "\n",
    "    def addAtIndex(self, index: int, val: int) -> None:\n",
    "        if index > self.length:\n",
    "            return \n",
    "\n",
    "        if index==0:\n",
    "            self.addAtHead(val)\n",
    "            return\n",
    "        \n",
    "        if index == self.length:\n",
    "            self.addAtTail(val)\n",
    "            return\n",
    "        \n",
    "        current = self.head\n",
    "        newnode = Node(val)\n",
    "        pos = 0\n",
    "\n",
    "        while(pos < index-1):\n",
    "            current = current.next\n",
    "            pos+=1\n",
    "        \n",
    "        newnode.next = current.next\n",
    "        current.next = newnode\n",
    "        self.length+=1\n",
    "\n",
    "    def deleteAtIndex(self, index: int) -> None:\n",
    "        if index >= self.length:\n",
    "            return \n",
    "        \n",
    "        if self.length == 1:\n",
    "            self.head = self.tail = None\n",
    "            self.length-=1\n",
    "            return\n",
    "        \n",
    "        if index == 0:\n",
    "            self.head = self.head.next\n",
    "            self.length-=1\n",
    "            return\n",
    "\n",
    "        current = self.head\n",
    "        pos = 0\n",
    "        while(pos < index-1):\n",
    "            current = current.next\n",
    "            pos+=1\n",
    "        \n",
    "        current.next = current.next.next\n",
    "        if index == self.length-1:\n",
    "            self.tail = current\n",
    "        self.length-=1"
   ]
  },
  {
   "cell_type": "code",
   "execution_count": null,
   "id": "55791391",
   "metadata": {},
   "outputs": [
    {
     "name": "stdout",
     "output_type": "stream",
     "text": [
      "30 20 10 "
     ]
    }
   ],
   "source": [
    "obj = MyLinkedList()\n",
    "obj.addAtHead(2)\n",
    "obj.deleteAtIndexAtIndex(1)\n",
    "obj.addAtIndex(0,30)\n",
    "obj.display()"
   ]
  }
 ],
 "metadata": {
  "kernelspec": {
   "display_name": "Python 3",
   "language": "python",
   "name": "python3"
  },
  "language_info": {
   "codemirror_mode": {
    "name": "ipython",
    "version": 3
   },
   "file_extension": ".py",
   "mimetype": "text/x-python",
   "name": "python",
   "nbconvert_exporter": "python",
   "pygments_lexer": "ipython3",
   "version": "3.11.4"
  }
 },
 "nbformat": 4,
 "nbformat_minor": 5
}
