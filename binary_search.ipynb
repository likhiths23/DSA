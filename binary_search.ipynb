{
 "cells": [
  {
   "cell_type": "markdown",
   "id": "90d63e27",
   "metadata": {},
   "source": [
    "### Recursive"
   ]
  },
  {
   "cell_type": "code",
   "execution_count": 11,
   "id": "74c2fb8f",
   "metadata": {},
   "outputs": [
    {
     "data": {
      "text/plain": [
       "'Not Found'"
      ]
     },
     "execution_count": 11,
     "metadata": {},
     "output_type": "execute_result"
    }
   ],
   "source": [
    "def binary_search(nums, left, right, key):\n",
    "    if left>right:\n",
    "        return \"Not Found\"\n",
    "    \n",
    "    mid = (left+right)//2\n",
    "    if key == nums[mid]:\n",
    "        return mid\n",
    "    \n",
    "    if key < nums[mid]:\n",
    "        mid = binary_search(nums, left, mid-1, key)\n",
    "    \n",
    "    if key > nums[mid]:\n",
    "        mid = binary_search(nums, mid+1, right, key)\n",
    "    \n",
    "    return mid\n",
    "    \n",
    "nums = [1, 2, 3, 4, 5, 6, 7, 8, 9, 10]\n",
    "key = 11\n",
    "idx = binary_search(nums, 0, len(nums)-1, key)\n",
    "idx"
   ]
  },
  {
   "cell_type": "markdown",
   "id": "504f2f9e",
   "metadata": {},
   "source": [
    "### Iterative"
   ]
  },
  {
   "cell_type": "code",
   "execution_count": 16,
   "id": "33b96af5",
   "metadata": {},
   "outputs": [
    {
     "name": "stdout",
     "output_type": "stream",
     "text": [
      "0\n"
     ]
    }
   ],
   "source": [
    "nums = [1, 2, 3, 4, 5, 6, 7, 8, 9, 10]\n",
    "left = 0\n",
    "right = len(nums)-1\n",
    "key = 1\n",
    "isfound = False\n",
    "\n",
    "while left<=right:\n",
    "    mid = (left+right)//2\n",
    "    if nums[mid] == key:\n",
    "        isfound = True\n",
    "        print(mid)\n",
    "        break\n",
    "    elif key < nums[mid]:\n",
    "        right = mid-1\n",
    "    else:\n",
    "        left = mid+1\n",
    "\n",
    "\n",
    "if not isfound:\n",
    "    print(\"Not Found\")"
   ]
  },
  {
   "cell_type": "code",
   "execution_count": 19,
   "id": "2824a245",
   "metadata": {},
   "outputs": [
    {
     "name": "stdout",
     "output_type": "stream",
     "text": [
      "[3, 4]\n"
     ]
    }
   ],
   "source": [
    "# Find lower bound\n",
    "def lower_bound(nums, target):\n",
    "    left = 0\n",
    "    right = len(nums)-1\n",
    "    lb = right+1\n",
    "\n",
    "    while left<=right:\n",
    "        mid = (left+right)//2\n",
    "        if nums[mid] >= target:\n",
    "            lb = mid\n",
    "            right-=1\n",
    "        else:\n",
    "            left+=1\n",
    "        \n",
    "    return lb\n",
    "\n",
    "\n",
    "# Find upper bound\n",
    "def upper_bound(nums, target):\n",
    "    left = 0\n",
    "    right = len(nums)-1\n",
    "    ub = right+1\n",
    "\n",
    "    while left<=right:\n",
    "        mid = (left+right)//2\n",
    "        if nums[mid] > target:\n",
    "            ub = mid\n",
    "            right-=1\n",
    "        else:\n",
    "            left+=1\n",
    "        \n",
    "    return (ub-1)\n",
    "\n",
    "\n",
    "nums = [5,7,7,8,8,10]\n",
    "target = 8\n",
    "lb = lower_bound(nums, target)\n",
    "ub = upper_bound(nums, target)\n",
    "\n",
    "print([lb, ub])"
   ]
  }
 ],
 "metadata": {
  "kernelspec": {
   "display_name": "Python 3",
   "language": "python",
   "name": "python3"
  },
  "language_info": {
   "codemirror_mode": {
    "name": "ipython",
    "version": 3
   },
   "file_extension": ".py",
   "mimetype": "text/x-python",
   "name": "python",
   "nbconvert_exporter": "python",
   "pygments_lexer": "ipython3",
   "version": "3.11.4"
  }
 },
 "nbformat": 4,
 "nbformat_minor": 5
}
