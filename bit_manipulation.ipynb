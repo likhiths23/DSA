{
 "cells": [
  {
   "cell_type": "code",
   "execution_count": 1,
   "id": "892d9a1c",
   "metadata": {},
   "outputs": [
    {
     "data": {
      "text/plain": [
       "0"
      ]
     },
     "execution_count": 1,
     "metadata": {},
     "output_type": "execute_result"
    }
   ],
   "source": [
    "# XOR of a number with itself is always 0\n",
    "a = 10\n",
    "a^a"
   ]
  },
  {
   "cell_type": "code",
   "execution_count": null,
   "id": "89a9b532",
   "metadata": {},
   "outputs": [
    {
     "data": {
      "text/plain": [
       "10"
      ]
     },
     "execution_count": 3,
     "metadata": {},
     "output_type": "execute_result"
    }
   ],
   "source": [
    "# XOR of a number with 0 is always the number\n",
    "a = 10\n",
    "a^0"
   ]
  },
  {
   "cell_type": "code",
   "execution_count": 10,
   "id": "da9a1a61",
   "metadata": {},
   "outputs": [
    {
     "data": {
      "text/plain": [
       "10"
      ]
     },
     "execution_count": 10,
     "metadata": {},
     "output_type": "execute_result"
    }
   ],
   "source": [
    "# OR of a number with 0 is always the number\n",
    "a = 10\n",
    "a|0"
   ]
  },
  {
   "cell_type": "code",
   "execution_count": 33,
   "id": "fd136f9d",
   "metadata": {},
   "outputs": [
    {
     "data": {
      "text/plain": [
       "[0, 2, 4, 6, 8]"
      ]
     },
     "execution_count": 33,
     "metadata": {},
     "output_type": "execute_result"
    }
   ],
   "source": [
    "n = 5\n",
    "start = 0\n",
    "\n",
    "nums = []\n",
    "i = 0\n",
    "while i<n:\n",
    "    nums.append(start + 2 * i)\n",
    "    i+=1\n",
    "\n",
    "nums"
   ]
  },
  {
   "cell_type": "code",
   "execution_count": 4,
   "id": "b0dc9261",
   "metadata": {},
   "outputs": [
    {
     "data": {
      "text/plain": [
       "11"
      ]
     },
     "execution_count": 4,
     "metadata": {},
     "output_type": "execute_result"
    }
   ],
   "source": [
    "# XOR of a number with 0 is always the number\n",
    "a = 10\n",
    "a^1"
   ]
  },
  {
   "cell_type": "code",
   "execution_count": 28,
   "id": "482f762c",
   "metadata": {},
   "outputs": [
    {
     "data": {
      "text/plain": [
       "1"
      ]
     },
     "execution_count": 28,
     "metadata": {},
     "output_type": "execute_result"
    }
   ],
   "source": [
    "11&1"
   ]
  },
  {
   "cell_type": "code",
   "execution_count": 22,
   "id": "3102c26d",
   "metadata": {},
   "outputs": [
    {
     "data": {
      "text/plain": [
       "2"
      ]
     },
     "execution_count": 22,
     "metadata": {},
     "output_type": "execute_result"
    }
   ],
   "source": [
    "# check ith bit is set or not\n",
    "n = 10\n",
    "result = n & (1<<1)  # Right 1 is the index\n",
    "result"
   ]
  },
  {
   "cell_type": "code",
   "execution_count": 26,
   "id": "64e95dc0",
   "metadata": {},
   "outputs": [
    {
     "data": {
      "text/plain": [
       "4"
      ]
     },
     "execution_count": 26,
     "metadata": {},
     "output_type": "execute_result"
    }
   ],
   "source": [
    "2<<1"
   ]
  },
  {
   "cell_type": "code",
   "execution_count": 24,
   "id": "0e90da03",
   "metadata": {},
   "outputs": [
    {
     "data": {
      "text/plain": [
       "8"
      ]
     },
     "execution_count": 24,
     "metadata": {},
     "output_type": "execute_result"
    }
   ],
   "source": [
    "n = 10\n",
    "result = n ^ (1<<1) \n",
    "result"
   ]
  }
 ],
 "metadata": {
  "kernelspec": {
   "display_name": "Python 3",
   "language": "python",
   "name": "python3"
  },
  "language_info": {
   "codemirror_mode": {
    "name": "ipython",
    "version": 3
   },
   "file_extension": ".py",
   "mimetype": "text/x-python",
   "name": "python",
   "nbconvert_exporter": "python",
   "pygments_lexer": "ipython3",
   "version": "3.11.4"
  }
 },
 "nbformat": 4,
 "nbformat_minor": 5
}
