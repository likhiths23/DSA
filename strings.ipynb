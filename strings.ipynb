{
 "cells": [
  {
   "cell_type": "code",
   "execution_count": 10,
   "id": "dfe62b3a",
   "metadata": {},
   "outputs": [
    {
     "name": "stdout",
     "output_type": "stream",
     "text": [
      "2\n",
      "dabaabcbc\n"
     ]
    }
   ],
   "source": [
    "s = \"daabcbaabcbc\"\n",
    "part = \"abc\"\n",
    "\n",
    "print(s.find(part))\n",
    "s = s.replace(part, \"\", 1)\n",
    "print(s)"
   ]
  },
  {
   "cell_type": "code",
   "execution_count": 11,
   "id": "321d5e3f",
   "metadata": {},
   "outputs": [
    {
     "name": "stdout",
     "output_type": "stream",
     "text": [
      "4\n",
      "dababc\n"
     ]
    }
   ],
   "source": [
    "print(s.find(part))\n",
    "s = s.replace(part, \"\", 1)\n",
    "print(s)"
   ]
  },
  {
   "cell_type": "code",
   "execution_count": 12,
   "id": "10ce0610",
   "metadata": {},
   "outputs": [
    {
     "name": "stdout",
     "output_type": "stream",
     "text": [
      "3\n",
      "dab\n"
     ]
    }
   ],
   "source": [
    "print(s.find(part))\n",
    "s = s.replace(part, \"\", 1)\n",
    "print(s)"
   ]
  },
  {
   "cell_type": "code",
   "execution_count": 13,
   "id": "781f4fd0",
   "metadata": {},
   "outputs": [
    {
     "name": "stdout",
     "output_type": "stream",
     "text": [
      "-1\n",
      "dab\n"
     ]
    }
   ],
   "source": [
    "print(s.find(part))\n",
    "s = s.replace(part, \"\", 1)\n",
    "print(s)"
   ]
  },
  {
   "cell_type": "code",
   "execution_count": 9,
   "id": "ee486238",
   "metadata": {},
   "outputs": [
    {
     "name": "stdout",
     "output_type": "stream",
     "text": [
      "blue blu bl b is i sky sk s the th t\n"
     ]
    }
   ],
   "source": [
    "s = \"the sky is blue\"\n",
    "s = s[::-1]\n",
    "ans = \"\"\n",
    "\n",
    "for i in range(len(s)):\n",
    "    word = \"\"\n",
    "    while i<len(s) and s[i]!=\" \":\n",
    "        word+=s[i]\n",
    "        i+=1\n",
    "    \n",
    "    word = word[::-1]\n",
    "    if word:\n",
    "        ans = ans + \" \" + word\n",
    "    \n",
    "print(ans.strip())"
   ]
  }
 ],
 "metadata": {
  "kernelspec": {
   "display_name": "Python 3",
   "language": "python",
   "name": "python3"
  },
  "language_info": {
   "codemirror_mode": {
    "name": "ipython",
    "version": 3
   },
   "file_extension": ".py",
   "mimetype": "text/x-python",
   "name": "python",
   "nbconvert_exporter": "python",
   "pygments_lexer": "ipython3",
   "version": "3.10.0"
  }
 },
 "nbformat": 4,
 "nbformat_minor": 5
}
