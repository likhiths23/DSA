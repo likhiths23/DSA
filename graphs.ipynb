{
 "cells": [
  {
   "cell_type": "code",
   "execution_count": 3,
   "id": "3295d7f1",
   "metadata": {},
   "outputs": [
    {
     "name": "stdout",
     "output_type": "stream",
     "text": [
      "0: [1, 4]\n",
      "1: [0, 2, 3, 4]\n",
      "2: [1, 3]\n",
      "3: [1, 2, 4]\n",
      "4: [0, 1, 3]\n"
     ]
    }
   ],
   "source": [
    "class Graph:\n",
    "    def __init__(self,v):\n",
    "        self.c = v\n",
    "        self.adj_list = {i:[] for i in range(v)}\n",
    "    \n",
    "    def add_edge(self, u ,v):\n",
    "        self.adj_list[u].append(v)\n",
    "        self.adj_list[v].append(u)\n",
    "    \n",
    "    def display(self):\n",
    "        for i,j in self.adj_list.items():\n",
    "            print(f\"{i}: {j}\")\n",
    "\n",
    "def dfs(graph, s):\n",
    "    explored = set()\n",
    "    stack = []\n",
    "    explored.add(s)\n",
    "    stack.append(s)\n",
    "    \n",
    "    while stack:\n",
    "        # print(stack)\n",
    "        v = stack.pop()\n",
    "        print(v)\n",
    "        for i in graph.adj_list[v]:\n",
    "            if i not in explored:\n",
    "                explored.add(i)\n",
    "                stack.append(i)\n",
    "        \n",
    "        \n",
    "\n",
    "g1 = Graph(5)\n",
    "g1.add_edge(0,1)\n",
    "g1.add_edge(0,4)\n",
    "g1.add_edge(1,2)\n",
    "g1.add_edge(1,3)\n",
    "g1.add_edge(1,4)\n",
    "g1.add_edge(2,3)\n",
    "g1.add_edge(3,4)\n",
    "g1.display() "
   ]
  },
  {
   "cell_type": "code",
   "execution_count": 4,
   "id": "4f4c85b4",
   "metadata": {},
   "outputs": [
    {
     "name": "stdout",
     "output_type": "stream",
     "text": [
      "DFS Order:\n",
      "0\n",
      "4\n",
      "3\n",
      "2\n",
      "1\n"
     ]
    }
   ],
   "source": [
    "print(\"DFS Order:\")\n",
    "dfs(g1,0)"
   ]
  },
  {
   "cell_type": "code",
   "execution_count": 8,
   "id": "a7883494",
   "metadata": {},
   "outputs": [
    {
     "name": "stdout",
     "output_type": "stream",
     "text": [
      "0\n",
      "1\n",
      "2\n",
      "3\n",
      "4\n"
     ]
    }
   ],
   "source": [
    "# DFS recursive\n",
    "def recursive_dfs(adj_list, node, visited):\n",
    "    \n",
    "    visited.add(node)\n",
    "    print(node)\n",
    "    for i in adj_list[node]:\n",
    "        if i not in visited:\n",
    "            recursive_dfs(adj_list, i, visited)\n",
    "        \n",
    "visited = set()\n",
    "recursive_dfs(g1.adj_list, 0, visited)"
   ]
  },
  {
   "cell_type": "code",
   "execution_count": null,
   "id": "acec92af",
   "metadata": {},
   "outputs": [],
   "source": []
  }
 ],
 "metadata": {
  "kernelspec": {
   "display_name": "Python 3",
   "language": "python",
   "name": "python3"
  },
  "language_info": {
   "codemirror_mode": {
    "name": "ipython",
    "version": 3
   },
   "file_extension": ".py",
   "mimetype": "text/x-python",
   "name": "python",
   "nbconvert_exporter": "python",
   "pygments_lexer": "ipython3",
   "version": "3.11.4"
  }
 },
 "nbformat": 4,
 "nbformat_minor": 5
}
