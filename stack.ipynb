{
 "cells": [
  {
   "cell_type": "code",
   "execution_count": null,
   "id": "8b853210",
   "metadata": {},
   "outputs": [],
   "source": [
    "class Node:\n",
    "    def __init__(self, data, top):\n",
    "        self.data = data\n",
    "        self.prev = top\n",
    "\n",
    "class Stack:\n",
    "    def __init__(self):\n",
    "        self.top = None\n",
    "        self.current_size = 0\n",
    "    \n",
    "    def push(self, data):\n",
    "        self.top = Node(data, self.top)\n",
    "        self.current_size+=1\n",
    "    \n",
    "    def pop(self):\n",
    "        if self.top is not None:\n",
    "            print(f\"Pop: {self.top.data}\")\n",
    "            self.top = self.top.prev\n",
    "            self.current_size-=1\n",
    "\n",
    "        else:\n",
    "            print(\"Stack is empty\")\n",
    "\n",
    "    def top_element(self):\n",
    "        if self.top is not None:\n",
    "            print(f\"Top: {self.top.data}\")\n",
    "        \n",
    "        else:\n",
    "            print(\"Stack is empty\")\n",
    "    \n",
    "    def size(self):\n",
    "        print(f\"Size: {self.current_size}\")"
   ]
  },
  {
   "cell_type": "code",
   "execution_count": null,
   "id": "31197c2a",
   "metadata": {},
   "outputs": [],
   "source": [
    "stack = Stack()\n",
    "stack.push(1)\n",
    "stack.push(2)\n",
    "stack.push(3)\n",
    "stack.pop()\n",
    "stack.pop()\n",
    "stack.pop()\n",
    "stack.size()\n",
    "stack.push(10)\n",
    "stack.size()\n",
    "stack.top_element()"
   ]
  },
  {
   "cell_type": "code",
   "execution_count": 3,
   "id": "aa383888",
   "metadata": {},
   "outputs": [
    {
     "data": {
      "text/plain": [
       "{2: -1, 4: -1, 3: 4, 1: 3}"
      ]
     },
     "execution_count": 3,
     "metadata": {},
     "output_type": "execute_result"
    }
   ],
   "source": [
    "nums2 = [1,3,4,2]\n",
    "\n",
    "n = len(nums2)\n",
    "ans = {}\n",
    "stack = []\n",
    "stack.append(nums2[n-1])\n",
    "ans[nums2[n-1]] = -1\n",
    "\n",
    "for i in range(n-2, -1, -1):\n",
    "    while stack and stack[len(stack)-1] < nums2[i]:\n",
    "        stack.pop()\n",
    "    \n",
    "    if stack:\n",
    "        ans[nums2[i]] = stack[len(stack)-1]\n",
    "    else:\n",
    "        ans[nums2[i]] = -1\n",
    "    \n",
    "    stack.append(nums2[i])\n",
    "\n",
    "ans"
   ]
  },
  {
   "cell_type": "code",
   "execution_count": 9,
   "id": "5bcb16ed",
   "metadata": {},
   "outputs": [
    {
     "name": "stdout",
     "output_type": "stream",
     "text": [
      "1 2 3 4 5 6 "
     ]
    }
   ],
   "source": [
    "from collections import deque\n",
    "\n",
    "queue = deque()\n",
    "nums = [1,2,3,4,5,6,7,8,9]\n",
    "n = len(nums)\n",
    "k=3\n",
    "\n",
    "for i in range(n):\n",
    "    \n",
    "    while queue and queue[0] <= i-k:\n",
    "        top = queue.popleft()\n",
    "        print(nums[top], end=\" \")\n",
    "    \n",
    "    queue.append(i)\n",
    "    "
   ]
  }
 ],
 "metadata": {
  "kernelspec": {
   "display_name": "Python 3",
   "language": "python",
   "name": "python3"
  },
  "language_info": {
   "codemirror_mode": {
    "name": "ipython",
    "version": 3
   },
   "file_extension": ".py",
   "mimetype": "text/x-python",
   "name": "python",
   "nbconvert_exporter": "python",
   "pygments_lexer": "ipython3",
   "version": "3.11.4"
  }
 },
 "nbformat": 4,
 "nbformat_minor": 5
}
