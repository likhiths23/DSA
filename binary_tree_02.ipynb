{
 "cells": [
  {
   "cell_type": "code",
   "execution_count": 1,
   "id": "75db7e2b",
   "metadata": {},
   "outputs": [],
   "source": [
    "class Node:\n",
    "    def __init__(self, data):\n",
    "        self.data = data\n",
    "        self.left = None\n",
    "        self.right = None\n",
    "\n",
    "index = 0\n",
    "\n",
    "def construct_binary_tree(preorder):\n",
    "    global index\n",
    "\n",
    "    if preorder[index] == -1:\n",
    "        return None\n",
    "    \n",
    "    root = Node(preorder[index])\n",
    "    index+=1\n",
    "    root.left = construct_binary_tree(preorder)\n",
    "    index+=1\n",
    "    root.right = construct_binary_tree(preorder)\n",
    "\n",
    "    return root"
   ]
  },
  {
   "cell_type": "code",
   "execution_count": 2,
   "id": "b388dd77",
   "metadata": {},
   "outputs": [],
   "source": [
    "preorder = [1, 2, 4, -1, -1, 5, -1, -1, 3, 6, -1, -1, 7, -1, -1]\n",
    "bt_root = construct_binary_tree(preorder)"
   ]
  },
  {
   "cell_type": "markdown",
   "id": "6f18e852",
   "metadata": {},
   "source": [
    "Level Order Traversal"
   ]
  },
  {
   "cell_type": "code",
   "execution_count": 19,
   "id": "3dd611ce",
   "metadata": {},
   "outputs": [
    {
     "name": "stdout",
     "output_type": "stream",
     "text": [
      "[[1], [2, 3], [4, 5, 6, 7]]\n"
     ]
    }
   ],
   "source": [
    "from collections import deque\n",
    "\n",
    "queue = deque()\n",
    "queue.append(bt_root)\n",
    "queue.append(None)\n",
    "ans = []\n",
    "res = []\n",
    "\n",
    "while queue:\n",
    "    first = queue.popleft()\n",
    "    if first is None:\n",
    "        if queue:\n",
    "            queue.append(None)\n",
    "            ans.append(res)\n",
    "            res = []\n",
    "            continue\n",
    "        else:\n",
    "            ans.append(res)\n",
    "            break\n",
    "        \n",
    "    res.append(first.data)\n",
    "    if first.left is not None:\n",
    "        queue.append(first.left)\n",
    "        \n",
    "    if first.right is not None:\n",
    "        queue.append(first.right)\n",
    "\n",
    "print(ans)\n",
    "        "
   ]
  },
  {
   "cell_type": "code",
   "execution_count": 17,
   "id": "c2c6a12f",
   "metadata": {},
   "outputs": [
    {
     "data": {
      "text/plain": [
       "1"
      ]
     },
     "execution_count": 17,
     "metadata": {},
     "output_type": "execute_result"
    }
   ],
   "source": [
    "# Definition for a binary tree node.\n",
    "class TreeNode:\n",
    "    def __init__(self, val=0, left=None, right=None):\n",
    "        self.val = val\n",
    "        self.left = left\n",
    "        self.right = right\n",
    "\n",
    "\n",
    "def search(inorder, key, l, r):\n",
    "    for i in range(l, r+1):\n",
    "        if inorder[i] == key:\n",
    "            return i\n",
    "\n",
    "def buildTree(preorder, inorder, preidx, l, r):\n",
    "    if r<l:\n",
    "        return None\n",
    "    \n",
    "    node = TreeNode()\n",
    "    node.val = preorder[preidx]\n",
    "    idx = search(inorder, preorder[preidx], l, r)\n",
    "    preidx+=1\n",
    "    node.left = buildTree(preorder, inorder, preidx, l, idx-1)\n",
    "    if node.left:\n",
    "        preidx+=1\n",
    "    node.right = buildTree(preorder, inorder, preidx, idx+1, r)\n",
    "\n",
    "    return node\n",
    "\n",
    "preorder = [1,2]\n",
    "inorder = [1,2]\n",
    "root = buildTree(preorder, inorder, 0, 0, len(inorder)-1)\n",
    "root.val"
   ]
  },
  {
   "cell_type": "code",
   "execution_count": 14,
   "id": "1e4c46ef",
   "metadata": {},
   "outputs": [
    {
     "name": "stdout",
     "output_type": "stream",
     "text": [
      "[[3], [9, 20], [15, 7]]\n"
     ]
    }
   ],
   "source": [
    "from collections import deque\n",
    "\n",
    "queue = deque()\n",
    "queue.append(root)\n",
    "queue.append(None)\n",
    "ans = []\n",
    "res = []\n",
    "\n",
    "while queue:\n",
    "    first = queue.popleft()\n",
    "    if first is None:\n",
    "        if queue:\n",
    "            queue.append(None)\n",
    "            ans.append(res)\n",
    "            res = []\n",
    "            continue\n",
    "        else:\n",
    "            ans.append(res)\n",
    "            break\n",
    "        \n",
    "    res.append(first.val)\n",
    "    if first.left is not None:\n",
    "        queue.append(first.left)\n",
    "        \n",
    "    if first.right is not None:\n",
    "        queue.append(first.right)\n",
    "\n",
    "print(ans)\n",
    "        "
   ]
  }
 ],
 "metadata": {
  "kernelspec": {
   "display_name": "Python 3",
   "language": "python",
   "name": "python3"
  },
  "language_info": {
   "codemirror_mode": {
    "name": "ipython",
    "version": 3
   },
   "file_extension": ".py",
   "mimetype": "text/x-python",
   "name": "python",
   "nbconvert_exporter": "python",
   "pygments_lexer": "ipython3",
   "version": "3.11.4"
  }
 },
 "nbformat": 4,
 "nbformat_minor": 5
}
