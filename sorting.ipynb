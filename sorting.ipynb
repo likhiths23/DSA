{
 "cells": [
  {
   "cell_type": "markdown",
   "id": "a21f2086",
   "metadata": {},
   "source": [
    "Bubble Sort"
   ]
  },
  {
   "cell_type": "code",
   "execution_count": 10,
   "id": "0012c789",
   "metadata": {},
   "outputs": [
    {
     "name": "stdout",
     "output_type": "stream",
     "text": [
      "[1, 2, 3, 4, 5, 6, 7, 8, 9]\n",
      "[5, 5, 3, 3, 2, 2, 0, 0, 0]\n"
     ]
    }
   ],
   "source": [
    "# Takes o(n^2) for all the cases\n",
    "\n",
    "nums = [5,6,4,8,1,9,7,2,3]\n",
    "swaps = []\n",
    "for i in range(len(nums)):\n",
    "    swap = 0\n",
    "    for j in range(len(nums)-i-1):\n",
    "        if nums[j] > nums[j+1]:\n",
    "            temp = nums[j+1]\n",
    "            nums[j+1] = nums[j]\n",
    "            nums[j] = temp\n",
    "            swap+=1\n",
    "    swaps.append(swap)\n",
    "            \n",
    "print(nums)\n",
    "print(swaps)"
   ]
  },
  {
   "cell_type": "code",
   "execution_count": 17,
   "id": "9ebd32af",
   "metadata": {},
   "outputs": [
    {
     "name": "stdout",
     "output_type": "stream",
     "text": [
      "[1, 2, 3, 4, 5, 6, 7, 8, 9]\n",
      "[5, 5, 3, 3, 2, 2, 0]\n"
     ]
    }
   ],
   "source": [
    "# Bit optimized version takes o(n) for sorted arrays\n",
    "\n",
    "nums = [5,6,4,8,1,9,7,2,3]\n",
    "swaps = []\n",
    "\n",
    "for i in range(len(nums)):\n",
    "    swap = 0\n",
    "    issorted = True\n",
    "    \n",
    "    for j in range(len(nums)-i-1):\n",
    "        if nums[j] > nums[j+1]:\n",
    "            temp = nums[j+1]\n",
    "            nums[j+1] = nums[j]\n",
    "            nums[j] = temp\n",
    "            swap+=1\n",
    "            issorted = False\n",
    "            \n",
    "    swaps.append(swap)\n",
    "    if issorted:\n",
    "        break\n",
    "            \n",
    "print(nums)\n",
    "print(swaps)"
   ]
  },
  {
   "cell_type": "markdown",
   "id": "af9ecf9e",
   "metadata": {},
   "source": [
    "Selection Sort"
   ]
  },
  {
   "cell_type": "code",
   "execution_count": null,
   "id": "309b565d",
   "metadata": {},
   "outputs": [
    {
     "name": "stdout",
     "output_type": "stream",
     "text": [
      "[1, 2, 3, 4, 5, 6, 7, 8, 9]\n",
      "[2, 3, 3, 3, 3, 3, 2, 1, 0]\n"
     ]
    }
   ],
   "source": [
    "# Takes o(n^2) for all the cases\n",
    "nums = [5,6,4,8,1,9,7,2,3]\n",
    "swaps = []\n",
    "\n",
    "for i in range(len(nums)):\n",
    "    minn = i\n",
    "    swap = 0\n",
    "    for j in range(i+1, len(nums)):\n",
    "        if nums[j] < nums[minn]:\n",
    "            temp = nums[j]\n",
    "            nums[j] = nums[minn]\n",
    "            nums[minn] = temp\n",
    "            swap+=1\n",
    "    swaps.append(swap)\n",
    "            \n",
    "print(nums)\n",
    "print(swaps)"
   ]
  },
  {
   "cell_type": "code",
   "execution_count": 18,
   "id": "993d8542",
   "metadata": {},
   "outputs": [
    {
     "name": "stdout",
     "output_type": "stream",
     "text": [
      "[1, 2, 3, 4, 5]\n",
      "[]\n"
     ]
    }
   ],
   "source": [
    "# Bit optimized version takes o(n) for sorted arrays\n",
    "nums = [1,2,3,4,5]\n",
    "swaps = []\n",
    "\n",
    "for i in range(len(nums)):\n",
    "    minn = i\n",
    "    swap = 0\n",
    "    issorted = True\n",
    "    for j in range(i+1, len(nums)):\n",
    "        if nums[j] < nums[minn]:\n",
    "            temp = nums[j]\n",
    "            nums[j] = nums[minn]\n",
    "            nums[minn] = temp\n",
    "            swap+=1\n",
    "            issorted = False\n",
    "    \n",
    "    if issorted:\n",
    "        break\n",
    "    swaps.append(swap)\n",
    "            \n",
    "print(nums)\n",
    "print(swaps)"
   ]
  },
  {
   "cell_type": "markdown",
   "id": "c6b5687d",
   "metadata": {},
   "source": [
    "Insertion Sort"
   ]
  },
  {
   "cell_type": "code",
   "execution_count": 23,
   "id": "e49782ce",
   "metadata": {},
   "outputs": [
    {
     "name": "stdout",
     "output_type": "stream",
     "text": [
      "[1, 2, 3, 4, 5, 6, 7, 8, 9]\n"
     ]
    }
   ],
   "source": [
    "nums = [6,5,4,8,1,9,7,2,3]\n",
    "\n",
    "for i in range(1, len(nums)):\n",
    "    key = nums[i]\n",
    "    j = i-1\n",
    "    while j>=0 and nums[j] > key:\n",
    "        nums[j+1] = nums[j]\n",
    "        j-=1\n",
    "    \n",
    "    nums[j+1] = key\n",
    "\n",
    "print(nums)"
   ]
  }
 ],
 "metadata": {
  "kernelspec": {
   "display_name": "Python 3",
   "language": "python",
   "name": "python3"
  },
  "language_info": {
   "codemirror_mode": {
    "name": "ipython",
    "version": 3
   },
   "file_extension": ".py",
   "mimetype": "text/x-python",
   "name": "python",
   "nbconvert_exporter": "python",
   "pygments_lexer": "ipython3",
   "version": "3.10.0"
  }
 },
 "nbformat": 4,
 "nbformat_minor": 5
}
